{
 "cells": [
  {
   "cell_type": "code",
   "execution_count": 3,
   "metadata": {},
   "outputs": [],
   "source": [
    "import pyomo.environ as pe\n",
    "import pandas as pd"
   ]
  },
  {
   "cell_type": "markdown",
   "metadata": {},
   "source": [
    "# HOW TO SETUP OPTIMIZER:\n",
    "\n",
    "To run pyomo with the current `SingleMarketSolver` implementation you'll need `GLPK` package:\n",
    "\n",
    "Download solver for pyomo from here: https://sourceforge.net/projects/winglpk/\n",
    "\n",
    "Extract it to some folder and specify path to `./glpsol.exe` executable for pyomo solver. \n",
    "\n",
    "For defined SingleMarketSolver class - `pe.SolverFactory('glpk', executable=r\"C:\\glpk\\w64\\glpsol.exe\")`"
   ]
  },
  {
   "cell_type": "code",
   "execution_count": null,
   "metadata": {},
   "outputs": [],
   "source": [
    "class SingleMarketSolver:\n",
    "\n",
    "    def __init__(self, **kwargs):\n",
    "        '''\n",
    "        Call a method and instantiate any external variables, like:\n",
    "            state of charge (SoC), \n",
    "            state of charge boundaries,\n",
    "            etc.\n",
    "        '''\n",
    "        self.output = []\n",
    "        self.model = None\n",
    "        self.data = None\n",
    "\n",
    "    def define(self, data, **kwargs):\n",
    "        \"\"\"\n",
    "        This method should define the Pyomo model. Implement this method to optimize battery \n",
    "        dispatch to a single market.\n",
    "\n",
    "        Write-up the parameters (market activations), variables (decisions to charge, discharge)\n",
    "        and constraints (listed in the task definition).\n",
    "        \"\"\"\n",
    "        self.data = data\n",
    "\n",
    "        # Build the model\n",
    "        model = pe.ConcreteModel() # model initialization\n",
    "        model.T = pe.RangeSet(0, len(data.index) - 1) # timesteps over which optimization takes place\n",
    "        # ...\n",
    "\n",
    "        # Parameters (ca -> charge activation)\n",
    "        # param defines how much charging activaiton is possible for given t\n",
    "        model.ca = pe.Param(model.T, initialize=data['downwards_activation_column'].to_dict()) \n",
    "        # ...\n",
    "\n",
    "        # Decision variables\n",
    "        # value here in pe.Var corresponds to charging of battery\n",
    "        model.charge = pe.Var(model.T, within=pe.Binary) \n",
    "        # ...\n",
    "\n",
    "        # Constraints\n",
    "        # example constraint - charge only if there is an activation\n",
    "        # present in the market and not more than that activation\n",
    "        model._example_constr = pe.Constraint(model.T, rule=self._example_charge_act_con,)\n",
    "        # ...\n",
    "        return self\n",
    "    \n",
    "    def solve(self):\n",
    "        '''\n",
    "        This method executes defined model solving\n",
    "        '''\n",
    "        if self.model is not None:\n",
    "            # Solve\n",
    "            # DEFINE HERE PATH TO SOLVER\n",
    "            solver = pe.SolverFactory('glpk', executable=r\"C:\\glpk\\w64\\glpsol.exe\")\n",
    "            solver.options['mipgap'] = 0.01  # Set a 1% relative gap tolerance\n",
    "            results = solver.solve(self.model, tee=True)\n",
    "            print(results.solver.status, results.solver.termination_condition)\n",
    "            \n",
    "            # Collect the results\n",
    "            res = []\n",
    "            for t in self.model.T:\n",
    "                rec = {\n",
    "                    'datetime': self.data.index[t], # output timestamp, not int here\n",
    "                    'sys_charge_activ': pe.value(self.model.ca[t]), # output parameters used\n",
    "                    'charge': pe.value(self.model.charge[t]), # output variables used\n",
    "                }\n",
    "                res.append(rec)\n",
    "            self.output = res\n",
    "        return self\n",
    "\n",
    "    # ---------------------\n",
    "    # Constraints and objective\n",
    "    # ---------------------\n",
    "\n",
    "    def _maximise_profit(self, m):\n",
    "        '''\n",
    "        This is an objective function, pyomo passes model object to it (m)\n",
    "        Implement it for max profit or any other objective\n",
    "\n",
    "        e.g.: return sum(discharge[t] * price[t] - ... for t in model.T)\n",
    "        '''\n",
    "\n",
    "    def _example_constr(self, m, t):\n",
    "        '''\n",
    "        This is an example constraint, pyomo passes model object (m) and model timestep index (t)\n",
    "        '''\n",
    "        # Allow charging only if the system has a down activation.\n",
    "        return m.charge[t] <= m.ca[t]\n",
    "        \n",
    "    def _some_constraint(self, m, t):\n",
    "        '''\n",
    "        Some other constraint\n",
    "        '''\n"
   ]
  },
  {
   "cell_type": "markdown",
   "metadata": {},
   "source": [
    "# EXAMPLE OF MODEL EXECUTION"
   ]
  },
  {
   "cell_type": "code",
   "execution_count": 11,
   "metadata": {},
   "outputs": [],
   "source": [
    "# data contains columns for actiivations in the market, prices, et.c\n",
    "data = pd.DataFrame()\n",
    "\n",
    "# creates object, defines model and runs it in one method\n",
    "obj = (\n",
    "    SingleMarketSolver()\n",
    "    .define(data=data)\n",
    "    .solve()\n",
    ")\n",
    "\n",
    "# parse the result\n",
    "df_results = pd.DataFrame(obj.output)"
   ]
  },
  {
   "cell_type": "markdown",
   "metadata": {},
   "source": [
    "# RESULTS VISUALISATION"
   ]
  },
  {
   "cell_type": "code",
   "execution_count": null,
   "metadata": {},
   "outputs": [],
   "source": []
  }
 ],
 "metadata": {
  "kernelspec": {
   "display_name": "Python 3",
   "language": "python",
   "name": "python3"
  },
  "language_info": {
   "codemirror_mode": {
    "name": "ipython",
    "version": 3
   },
   "file_extension": ".py",
   "mimetype": "text/x-python",
   "name": "python",
   "nbconvert_exporter": "python",
   "pygments_lexer": "ipython3",
   "version": "3.11.9"
  }
 },
 "nbformat": 4,
 "nbformat_minor": 2
}
